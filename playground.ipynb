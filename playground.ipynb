{
 "cells": [
  {
   "cell_type": "code",
   "execution_count": 1,
   "metadata": {},
   "outputs": [],
   "source": [
    "import yaml"
   ]
  },
  {
   "cell_type": "code",
   "execution_count": 4,
   "metadata": {},
   "outputs": [
    {
     "name": "stdout",
     "output_type": "stream",
     "text": [
      "{'issue_values': 'I am going to tell you about an issue that someone is facing and I would like you to  generate questions to ask the person to surmise what their values are in the domain in which the issue lies.  Think about what is the domain in which there issue lies first and then generate questions to get at their values in that domain. Values refer to what is important to them in that domain. What do they care about in that domain? Come up with 5 questions.  The questions should not be about the context of the issue. The questions are about what is important to them in that domain.\\nIssue: {issue}\\n', 'reappraisal_values': \"I'm going to give you an issue that someone is facing and a description of their values,  and I want you to generate a cognitive reappraisal for them. Do not try to solve the problem and do not tell the person what to do. Just help them see it in a way that will help them feel better, given their values. Do not talk about their values explicitly, just consider them when you generate your response.  Write 3 sentences. Every sentence should be responsive to their values without explicitly mentioning  that it is their values.\\nIssue: {issue}\\nValues: {values}\"}\n"
     ]
    }
   ],
   "source": [
    "with open('prompts.yaml') as f:\n",
    "    prompts = yaml.safe_load(f)"
   ]
  },
  {
   "cell_type": "code",
   "execution_count": null,
   "metadata": {},
   "outputs": [],
   "source": []
  }
 ],
 "metadata": {
  "kernelspec": {
   "display_name": "Python 3",
   "language": "python",
   "name": "python3"
  },
  "language_info": {
   "codemirror_mode": {
    "name": "ipython",
    "version": 3
   },
   "file_extension": ".py",
   "mimetype": "text/x-python",
   "name": "python",
   "nbconvert_exporter": "python",
   "pygments_lexer": "ipython3",
   "version": "3.9.6"
  }
 },
 "nbformat": 4,
 "nbformat_minor": 2
}
